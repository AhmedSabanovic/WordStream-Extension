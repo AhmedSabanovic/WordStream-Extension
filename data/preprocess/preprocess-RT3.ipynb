{
 "cells": [
  {
   "cell_type": "markdown",
   "metadata": {},
   "source": [
    "# Import Required Libraries"
   ]
  },
  {
   "cell_type": "code",
   "execution_count": 1,
   "metadata": {},
   "outputs": [],
   "source": [
    "import pandas as pd\n",
    "# import spacy\n",
    "# from vaderSentiment.vaderSentiment import SentimentIntensityAnalyzer\n",
    "# from spacy.lang.en.stop_words import STOP_WORDS\n",
    "# import string"
   ]
  },
  {
   "cell_type": "markdown",
   "metadata": {},
   "source": [
    "# Load Dataset"
   ]
  },
  {
   "cell_type": "code",
   "execution_count": 5,
   "metadata": {},
   "outputs": [
    {
     "data": {
      "text/html": [
       "<div>\n",
       "<style scoped>\n",
       "    .dataframe tbody tr th:only-of-type {\n",
       "        vertical-align: middle;\n",
       "    }\n",
       "\n",
       "    .dataframe tbody tr th {\n",
       "        vertical-align: top;\n",
       "    }\n",
       "\n",
       "    .dataframe thead th {\n",
       "        text-align: right;\n",
       "    }\n",
       "</style>\n",
       "<table border=\"1\" class=\"dataframe\">\n",
       "  <thead>\n",
       "    <tr style=\"text-align: right;\">\n",
       "      <th></th>\n",
       "      <th>source</th>\n",
       "      <th>year</th>\n",
       "      <th>text</th>\n",
       "      <th>sentiment</th>\n",
       "      <th>frequency</th>\n",
       "    </tr>\n",
       "  </thead>\n",
       "  <tbody>\n",
       "    <tr>\n",
       "      <th>0</th>\n",
       "      <td>rottentomatoes</td>\n",
       "      <td>2010</td>\n",
       "      <td>!Women Art Revolution</td>\n",
       "      <td>0.817774</td>\n",
       "      <td>1</td>\n",
       "    </tr>\n",
       "    <tr>\n",
       "      <th>1</th>\n",
       "      <td>rottentomatoes</td>\n",
       "      <td>2011</td>\n",
       "      <td>!Women Art Revolution</td>\n",
       "      <td>0.660760</td>\n",
       "      <td>21</td>\n",
       "    </tr>\n",
       "    <tr>\n",
       "      <th>2</th>\n",
       "      <td>rottentomatoes</td>\n",
       "      <td>2012</td>\n",
       "      <td>!Women Art Revolution</td>\n",
       "      <td>0.857373</td>\n",
       "      <td>1</td>\n",
       "    </tr>\n",
       "    <tr>\n",
       "      <th>3</th>\n",
       "      <td>rottentomatoes</td>\n",
       "      <td>2013</td>\n",
       "      <td>!Women Art Revolution</td>\n",
       "      <td>0.748098</td>\n",
       "      <td>1</td>\n",
       "    </tr>\n",
       "    <tr>\n",
       "      <th>4</th>\n",
       "      <td>rottentomatoes</td>\n",
       "      <td>2018</td>\n",
       "      <td>!Women Art Revolution</td>\n",
       "      <td>0.852688</td>\n",
       "      <td>1</td>\n",
       "    </tr>\n",
       "  </tbody>\n",
       "</table>\n",
       "</div>"
      ],
      "text/plain": [
       "           source  year                   text  sentiment  frequency\n",
       "0  rottentomatoes  2010  !Women Art Revolution   0.817774          1\n",
       "1  rottentomatoes  2011  !Women Art Revolution   0.660760         21\n",
       "2  rottentomatoes  2012  !Women Art Revolution   0.857373          1\n",
       "3  rottentomatoes  2013  !Women Art Revolution   0.748098          1\n",
       "4  rottentomatoes  2018  !Women Art Revolution   0.852688          1"
      ]
     },
     "execution_count": 5,
     "metadata": {},
     "output_type": "execute_result"
    }
   ],
   "source": [
    "# Load the TSV file into a DataFrame\n",
    "df = pd.read_csv('RottenTomatoes_sentiment.tsv', sep='\\t')\n",
    "df.head()"
   ]
  },
  {
   "cell_type": "markdown",
   "metadata": {},
   "source": [
    "# Preprocess dataset"
   ]
  },
  {
   "cell_type": "code",
   "execution_count": 8,
   "metadata": {},
   "outputs": [
    {
     "name": "stdout",
     "output_type": "stream",
     "text": [
      "[1800 1923 1927 1928 1929 1931 1932 1933 1934 1935 1936 1937 1938 1939\n",
      " 1941 1942 1943 1944 1946 1948 1949 1951 1953 1954 1956 1958 1960 1962\n",
      " 1963 1965 1967 1969 1970 1971 1974 1976 1977 1978 1979 1980 1981 1982\n",
      " 1983 1984 1985 1986 1987 1988 1989 1990 1991 1992 1993 1994 1995 1996\n",
      " 1997 1998 1999 2000 2001 2002 2003 2004 2005 2006 2007 2008 2009 2010\n",
      " 2011 2012 2013 2014 2015 2016 2017 2018 2019 2020]\n"
     ]
    }
   ],
   "source": [
    "# Extract the 'year' column, get unique values, and sort them in ascending order\n",
    "unique_years_sorted = df['year'].unique()\n",
    "unique_years_sorted.sort()\n",
    "\n",
    "# Print the sorted unique years\n",
    "print(unique_years_sorted)"
   ]
  },
  {
   "cell_type": "code",
   "execution_count": 10,
   "metadata": {},
   "outputs": [
    {
     "name": "stdout",
     "output_type": "stream",
     "text": [
      "year\n",
      "1800      16\n",
      "1923       1\n",
      "1927       2\n",
      "1928       1\n",
      "1929       1\n",
      "1931       1\n",
      "1932       1\n",
      "1933       1\n",
      "1934       1\n",
      "1935       2\n",
      "1936       1\n",
      "1937       1\n",
      "1938       1\n",
      "1939       2\n",
      "1941       2\n",
      "1942       1\n",
      "1943       1\n",
      "1944       1\n",
      "1946       1\n",
      "1948       2\n",
      "1949       1\n",
      "1951       2\n",
      "1953       4\n",
      "1954       2\n",
      "1956       1\n",
      "1958       3\n",
      "1960       3\n",
      "1962       2\n",
      "1963       2\n",
      "1965       2\n",
      "1967       2\n",
      "1969       2\n",
      "1970       1\n",
      "1971       1\n",
      "1974       1\n",
      "1976       1\n",
      "1977       2\n",
      "1978       1\n",
      "1979       4\n",
      "1980       3\n",
      "1981       7\n",
      "1982       4\n",
      "1983       3\n",
      "1984       4\n",
      "1985       5\n",
      "1986       4\n",
      "1987       2\n",
      "1988       6\n",
      "1989       5\n",
      "1990      19\n",
      "1991      17\n",
      "1992      19\n",
      "1993      14\n",
      "1994      22\n",
      "1995      20\n",
      "1996      25\n",
      "1997      13\n",
      "1998      19\n",
      "1999      12\n",
      "2000    3693\n",
      "2001    2189\n",
      "2002    4329\n",
      "2003    4930\n",
      "2004    4262\n",
      "2005    4419\n",
      "2006    4992\n",
      "2007    4289\n",
      "2008    4261\n",
      "2009    4387\n",
      "2010    4030\n",
      "2011    3866\n",
      "2012    3265\n",
      "2013    3566\n",
      "2014    3252\n",
      "2015    3297\n",
      "2016    3765\n",
      "2017    5052\n",
      "2018    7467\n",
      "2019    8952\n",
      "2020    8008\n"
     ]
    }
   ],
   "source": [
    "# Group by 'year' and count the frequency of each year\n",
    "year_frequency = df['year'].value_counts().sort_index()\n",
    "\n",
    "# Print the sorted unique years and their respective frequency\n",
    "# Print all rows\n",
    "print(year_frequency.to_string())"
   ]
  },
  {
   "cell_type": "code",
   "execution_count": 11,
   "metadata": {},
   "outputs": [
    {
     "data": {
      "text/html": [
       "<div>\n",
       "<style scoped>\n",
       "    .dataframe tbody tr th:only-of-type {\n",
       "        vertical-align: middle;\n",
       "    }\n",
       "\n",
       "    .dataframe tbody tr th {\n",
       "        vertical-align: top;\n",
       "    }\n",
       "\n",
       "    .dataframe thead th {\n",
       "        text-align: right;\n",
       "    }\n",
       "</style>\n",
       "<table border=\"1\" class=\"dataframe\">\n",
       "  <thead>\n",
       "    <tr style=\"text-align: right;\">\n",
       "      <th></th>\n",
       "      <th>source</th>\n",
       "      <th>year</th>\n",
       "      <th>text</th>\n",
       "      <th>sentiment</th>\n",
       "      <th>frequency</th>\n",
       "    </tr>\n",
       "  </thead>\n",
       "  <tbody>\n",
       "    <tr>\n",
       "      <th>0</th>\n",
       "      <td>rottentomatoes</td>\n",
       "      <td>2010</td>\n",
       "      <td>!Women Art Revolution</td>\n",
       "      <td>0.817774</td>\n",
       "      <td>1</td>\n",
       "    </tr>\n",
       "    <tr>\n",
       "      <th>1</th>\n",
       "      <td>rottentomatoes</td>\n",
       "      <td>2011</td>\n",
       "      <td>!Women Art Revolution</td>\n",
       "      <td>0.660760</td>\n",
       "      <td>21</td>\n",
       "    </tr>\n",
       "    <tr>\n",
       "      <th>2</th>\n",
       "      <td>rottentomatoes</td>\n",
       "      <td>2012</td>\n",
       "      <td>!Women Art Revolution</td>\n",
       "      <td>0.857373</td>\n",
       "      <td>1</td>\n",
       "    </tr>\n",
       "    <tr>\n",
       "      <th>3</th>\n",
       "      <td>rottentomatoes</td>\n",
       "      <td>2013</td>\n",
       "      <td>!Women Art Revolution</td>\n",
       "      <td>0.748098</td>\n",
       "      <td>1</td>\n",
       "    </tr>\n",
       "    <tr>\n",
       "      <th>4</th>\n",
       "      <td>rottentomatoes</td>\n",
       "      <td>2018</td>\n",
       "      <td>!Women Art Revolution</td>\n",
       "      <td>0.852688</td>\n",
       "      <td>1</td>\n",
       "    </tr>\n",
       "  </tbody>\n",
       "</table>\n",
       "</div>"
      ],
      "text/plain": [
       "           source  year                   text  sentiment  frequency\n",
       "0  rottentomatoes  2010  !Women Art Revolution   0.817774          1\n",
       "1  rottentomatoes  2011  !Women Art Revolution   0.660760         21\n",
       "2  rottentomatoes  2012  !Women Art Revolution   0.857373          1\n",
       "3  rottentomatoes  2013  !Women Art Revolution   0.748098          1\n",
       "4  rottentomatoes  2018  !Women Art Revolution   0.852688          1"
      ]
     },
     "execution_count": 11,
     "metadata": {},
     "output_type": "execute_result"
    }
   ],
   "source": [
    "# Remove rows with years less than 2000\n",
    "df = df[df['year'] >= 2000]\n",
    "(df.head())"
   ]
  },
  {
   "cell_type": "code",
   "execution_count": 12,
   "metadata": {},
   "outputs": [
    {
     "name": "stdout",
     "output_type": "stream",
     "text": [
      "year\n",
      "2000    3693\n",
      "2001    2189\n",
      "2002    4329\n",
      "2003    4930\n",
      "2004    4262\n",
      "2005    4419\n",
      "2006    4992\n",
      "2007    4289\n",
      "2008    4261\n",
      "2009    4387\n",
      "2010    4030\n",
      "2011    3866\n",
      "2012    3265\n",
      "2013    3566\n",
      "2014    3252\n",
      "2015    3297\n",
      "2016    3765\n",
      "2017    5052\n",
      "2018    7467\n",
      "2019    8952\n",
      "2020    8008\n"
     ]
    }
   ],
   "source": [
    "# Group by 'year' and count the frequency of each year\n",
    "year_frequency = df['year'].value_counts().sort_index()\n",
    "\n",
    "# Print the sorted unique years and their respective frequency\n",
    "# Print all rows\n",
    "print(year_frequency.to_string())"
   ]
  },
  {
   "cell_type": "markdown",
   "metadata": {},
   "source": [
    "# Save Preprocessed dataset"
   ]
  },
  {
   "cell_type": "code",
   "execution_count": 13,
   "metadata": {},
   "outputs": [],
   "source": [
    "# # Save the preprocessed DataFrame to a new CSV file\n",
    "# Export the DataFrame to a new .tsv file\n",
    "df.to_csv('RottenTomatoes_sentiment.tsv', sep='\\t', index=False)"
   ]
  },
  {
   "cell_type": "code",
   "execution_count": null,
   "metadata": {},
   "outputs": [],
   "source": []
  }
 ],
 "metadata": {
  "kernelspec": {
   "display_name": "Python 3 (ipykernel)",
   "language": "python",
   "name": "python3"
  },
  "language_info": {
   "codemirror_mode": {
    "name": "ipython",
    "version": 3
   },
   "file_extension": ".py",
   "mimetype": "text/x-python",
   "name": "python",
   "nbconvert_exporter": "python",
   "pygments_lexer": "ipython3",
   "version": "3.11.5"
  }
 },
 "nbformat": 4,
 "nbformat_minor": 2
}
