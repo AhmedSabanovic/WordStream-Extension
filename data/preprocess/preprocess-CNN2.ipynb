{
 "cells": [
  {
   "cell_type": "markdown",
   "metadata": {},
   "source": [
    "# Import Required Libraries"
   ]
  },
  {
   "cell_type": "code",
   "execution_count": 1,
   "metadata": {},
   "outputs": [],
   "source": [
    "# pip install spacy"
   ]
  },
  {
   "cell_type": "code",
   "execution_count": 2,
   "metadata": {},
   "outputs": [],
   "source": [
    "# python -m spacy download en_core_web_sm"
   ]
  },
  {
   "cell_type": "code",
   "execution_count": 3,
   "metadata": {},
   "outputs": [],
   "source": [
    "import pandas as pd\n",
    "import spacy"
   ]
  },
  {
   "cell_type": "code",
   "execution_count": 4,
   "metadata": {},
   "outputs": [],
   "source": [
    "# Load the spaCy model\n",
    "nlp = spacy.load(\"en_core_web_sm\")"
   ]
  },
  {
   "cell_type": "markdown",
   "metadata": {},
   "source": [
    "# Load Dataset"
   ]
  },
  {
   "cell_type": "code",
   "execution_count": 5,
   "metadata": {},
   "outputs": [
    {
     "data": {
      "text/html": [
       "<div>\n",
       "<style scoped>\n",
       "    .dataframe tbody tr th:only-of-type {\n",
       "        vertical-align: middle;\n",
       "    }\n",
       "\n",
       "    .dataframe tbody tr th {\n",
       "        vertical-align: top;\n",
       "    }\n",
       "\n",
       "    .dataframe thead th {\n",
       "        text-align: right;\n",
       "    }\n",
       "</style>\n",
       "<table border=\"1\" class=\"dataframe\">\n",
       "  <thead>\n",
       "    <tr style=\"text-align: right;\">\n",
       "      <th></th>\n",
       "      <th>Year</th>\n",
       "      <th>Description</th>\n",
       "      <th>Conference</th>\n",
       "      <th>Title</th>\n",
       "      <th>Author Names</th>\n",
       "    </tr>\n",
       "  </thead>\n",
       "  <tbody>\n",
       "    <tr>\n",
       "      <th>0</th>\n",
       "      <td>2022</td>\n",
       "      <td>Here's a look at how the pandemic reshaped peo...</td>\n",
       "      <td>business</td>\n",
       "      <td>Two years later, remote work has changed milli...</td>\n",
       "      <td>Kathryn Vasel</td>\n",
       "    </tr>\n",
       "    <tr>\n",
       "      <th>1</th>\n",
       "      <td>2022</td>\n",
       "      <td>March Madness isn't just for college basketbal...</td>\n",
       "      <td>business</td>\n",
       "      <td>Why March is so volatile for stocks - CNN</td>\n",
       "      <td>Paul R. La Monica,  Business</td>\n",
       "    </tr>\n",
       "    <tr>\n",
       "      <th>2</th>\n",
       "      <td>2022</td>\n",
       "      <td>As crude prices surge, oil companies are rakin...</td>\n",
       "      <td>business</td>\n",
       "      <td>Stocks week ahead: Big Oil rakes in billions a...</td>\n",
       "      <td>Chris Isidore,  Business</td>\n",
       "    </tr>\n",
       "    <tr>\n",
       "      <th>3</th>\n",
       "      <td>2022</td>\n",
       "      <td>Governments around the world must consider dra...</td>\n",
       "      <td>business</td>\n",
       "      <td>Oil 'emergency': Work from home and drive slow...</td>\n",
       "      <td>Matt Egan,  Business</td>\n",
       "    </tr>\n",
       "    <tr>\n",
       "      <th>4</th>\n",
       "      <td>2022</td>\n",
       "      <td>The convenience of digital payments to both co...</td>\n",
       "      <td>business</td>\n",
       "      <td>Opinion: Technology is transforming the nature...</td>\n",
       "      <td>As told to by Chris Wellisz, International Mon...</td>\n",
       "    </tr>\n",
       "  </tbody>\n",
       "</table>\n",
       "</div>"
      ],
      "text/plain": [
       "   Year                                        Description Conference  \\\n",
       "0  2022  Here's a look at how the pandemic reshaped peo...   business   \n",
       "1  2022  March Madness isn't just for college basketbal...   business   \n",
       "2  2022  As crude prices surge, oil companies are rakin...   business   \n",
       "3  2022  Governments around the world must consider dra...   business   \n",
       "4  2022  The convenience of digital payments to both co...   business   \n",
       "\n",
       "                                               Title  \\\n",
       "0  Two years later, remote work has changed milli...   \n",
       "1          Why March is so volatile for stocks - CNN   \n",
       "2  Stocks week ahead: Big Oil rakes in billions a...   \n",
       "3  Oil 'emergency': Work from home and drive slow...   \n",
       "4  Opinion: Technology is transforming the nature...   \n",
       "\n",
       "                                        Author Names  \n",
       "0                                      Kathryn Vasel  \n",
       "1                       Paul R. La Monica,  Business  \n",
       "2                           Chris Isidore,  Business  \n",
       "3                               Matt Egan,  Business  \n",
       "4  As told to by Chris Wellisz, International Mon...  "
      ]
     },
     "execution_count": 5,
     "metadata": {},
     "output_type": "execute_result"
    }
   ],
   "source": [
    "# Load the sentimentdataset.csv file into a pandas DataFrame\n",
    "df = pd.read_csv('CNN_Editors.tsv', delimiter='\\t')\n",
    "df.head()"
   ]
  },
  {
   "cell_type": "markdown",
   "metadata": {},
   "source": [
    "# Preprocess dataset"
   ]
  },
  {
   "cell_type": "code",
   "execution_count": 6,
   "metadata": {},
   "outputs": [
    {
     "data": {
      "text/html": [
       "<div>\n",
       "<style scoped>\n",
       "    .dataframe tbody tr th:only-of-type {\n",
       "        vertical-align: middle;\n",
       "    }\n",
       "\n",
       "    .dataframe tbody tr th {\n",
       "        vertical-align: top;\n",
       "    }\n",
       "\n",
       "    .dataframe thead th {\n",
       "        text-align: right;\n",
       "    }\n",
       "</style>\n",
       "<table border=\"1\" class=\"dataframe\">\n",
       "  <thead>\n",
       "    <tr style=\"text-align: right;\">\n",
       "      <th></th>\n",
       "      <th>Year</th>\n",
       "      <th>Description</th>\n",
       "      <th>Conference</th>\n",
       "      <th>Title</th>\n",
       "    </tr>\n",
       "  </thead>\n",
       "  <tbody>\n",
       "    <tr>\n",
       "      <th>0</th>\n",
       "      <td>2022</td>\n",
       "      <td>Here's a look at how the pandemic reshaped peo...</td>\n",
       "      <td>business</td>\n",
       "      <td>Two years later, remote work has changed milli...</td>\n",
       "    </tr>\n",
       "    <tr>\n",
       "      <th>1</th>\n",
       "      <td>2022</td>\n",
       "      <td>March Madness isn't just for college basketbal...</td>\n",
       "      <td>business</td>\n",
       "      <td>Why March is so volatile for stocks - CNN</td>\n",
       "    </tr>\n",
       "    <tr>\n",
       "      <th>2</th>\n",
       "      <td>2022</td>\n",
       "      <td>As crude prices surge, oil companies are rakin...</td>\n",
       "      <td>business</td>\n",
       "      <td>Stocks week ahead: Big Oil rakes in billions a...</td>\n",
       "    </tr>\n",
       "    <tr>\n",
       "      <th>3</th>\n",
       "      <td>2022</td>\n",
       "      <td>Governments around the world must consider dra...</td>\n",
       "      <td>business</td>\n",
       "      <td>Oil 'emergency': Work from home and drive slow...</td>\n",
       "    </tr>\n",
       "    <tr>\n",
       "      <th>4</th>\n",
       "      <td>2022</td>\n",
       "      <td>The convenience of digital payments to both co...</td>\n",
       "      <td>business</td>\n",
       "      <td>Opinion: Technology is transforming the nature...</td>\n",
       "    </tr>\n",
       "  </tbody>\n",
       "</table>\n",
       "</div>"
      ],
      "text/plain": [
       "   Year                                        Description Conference  \\\n",
       "0  2022  Here's a look at how the pandemic reshaped peo...   business   \n",
       "1  2022  March Madness isn't just for college basketbal...   business   \n",
       "2  2022  As crude prices surge, oil companies are rakin...   business   \n",
       "3  2022  Governments around the world must consider dra...   business   \n",
       "4  2022  The convenience of digital payments to both co...   business   \n",
       "\n",
       "                                               Title  \n",
       "0  Two years later, remote work has changed milli...  \n",
       "1          Why March is so volatile for stocks - CNN  \n",
       "2  Stocks week ahead: Big Oil rakes in billions a...  \n",
       "3  Oil 'emergency': Work from home and drive slow...  \n",
       "4  Opinion: Technology is transforming the nature...  "
      ]
     },
     "execution_count": 6,
     "metadata": {},
     "output_type": "execute_result"
    }
   ],
   "source": [
    "# Remove the 'Author Names' column\n",
    "df.drop(columns=['Author Names'], inplace=True)\n",
    "df.head()"
   ]
  },
  {
   "cell_type": "markdown",
   "metadata": {},
   "source": [
    "## Exctract named entities"
   ]
  },
  {
   "cell_type": "code",
   "execution_count": 7,
   "metadata": {},
   "outputs": [
    {
     "data": {
      "text/html": [
       "<div>\n",
       "<style scoped>\n",
       "    .dataframe tbody tr th:only-of-type {\n",
       "        vertical-align: middle;\n",
       "    }\n",
       "\n",
       "    .dataframe tbody tr th {\n",
       "        vertical-align: top;\n",
       "    }\n",
       "\n",
       "    .dataframe thead th {\n",
       "        text-align: right;\n",
       "    }\n",
       "</style>\n",
       "<table border=\"1\" class=\"dataframe\">\n",
       "  <thead>\n",
       "    <tr style=\"text-align: right;\">\n",
       "      <th></th>\n",
       "      <th>Year</th>\n",
       "      <th>Description</th>\n",
       "      <th>Conference</th>\n",
       "      <th>Title</th>\n",
       "      <th>Author Names</th>\n",
       "    </tr>\n",
       "  </thead>\n",
       "  <tbody>\n",
       "    <tr>\n",
       "      <th>0</th>\n",
       "      <td>2022</td>\n",
       "      <td>Here's a look at how the pandemic reshaped peo...</td>\n",
       "      <td>business</td>\n",
       "      <td>Two years later, remote work has changed milli...</td>\n",
       "      <td></td>\n",
       "    </tr>\n",
       "    <tr>\n",
       "      <th>1</th>\n",
       "      <td>2022</td>\n",
       "      <td>March Madness isn't just for college basketbal...</td>\n",
       "      <td>business</td>\n",
       "      <td>Why March is so volatile for stocks - CNN</td>\n",
       "      <td>March;this March</td>\n",
       "    </tr>\n",
       "    <tr>\n",
       "      <th>2</th>\n",
       "      <td>2022</td>\n",
       "      <td>As crude prices surge, oil companies are rakin...</td>\n",
       "      <td>business</td>\n",
       "      <td>Stocks week ahead: Big Oil rakes in billions a...</td>\n",
       "      <td></td>\n",
       "    </tr>\n",
       "    <tr>\n",
       "      <th>3</th>\n",
       "      <td>2022</td>\n",
       "      <td>Governments around the world must consider dra...</td>\n",
       "      <td>business</td>\n",
       "      <td>Oil 'emergency': Work from home and drive slow...</td>\n",
       "      <td>Russia;Ukraine;the International Energy Agency...</td>\n",
       "    </tr>\n",
       "    <tr>\n",
       "      <th>4</th>\n",
       "      <td>2022</td>\n",
       "      <td>The convenience of digital payments to both co...</td>\n",
       "      <td>business</td>\n",
       "      <td>Opinion: Technology is transforming the nature...</td>\n",
       "      <td></td>\n",
       "    </tr>\n",
       "  </tbody>\n",
       "</table>\n",
       "</div>"
      ],
      "text/plain": [
       "   Year                                        Description Conference  \\\n",
       "0  2022  Here's a look at how the pandemic reshaped peo...   business   \n",
       "1  2022  March Madness isn't just for college basketbal...   business   \n",
       "2  2022  As crude prices surge, oil companies are rakin...   business   \n",
       "3  2022  Governments around the world must consider dra...   business   \n",
       "4  2022  The convenience of digital payments to both co...   business   \n",
       "\n",
       "                                               Title  \\\n",
       "0  Two years later, remote work has changed milli...   \n",
       "1          Why March is so volatile for stocks - CNN   \n",
       "2  Stocks week ahead: Big Oil rakes in billions a...   \n",
       "3  Oil 'emergency': Work from home and drive slow...   \n",
       "4  Opinion: Technology is transforming the nature...   \n",
       "\n",
       "                                        Author Names  \n",
       "0                                                     \n",
       "1                                   March;this March  \n",
       "2                                                     \n",
       "3  Russia;Ukraine;the International Energy Agency...  \n",
       "4                                                     "
      ]
     },
     "execution_count": 7,
     "metadata": {},
     "output_type": "execute_result"
    }
   ],
   "source": [
    "# Function to extract named entities from a text\n",
    "# def extract_entities(text):\n",
    "#     doc = nlp(text)\n",
    "#     return [(ent.text, ent.label_) for ent in doc.ents]\n",
    "def extract_entities(text):\n",
    "    doc = nlp(text)\n",
    "    return ';'.join([ent.text for ent in doc.ents])\n",
    "\n",
    "# Apply the function to the 'Description' column\n",
    "df['Author Names'] = df['Description'].apply(extract_entities)\n",
    "df.head()"
   ]
  },
  {
   "cell_type": "code",
   "execution_count": 8,
   "metadata": {},
   "outputs": [
    {
     "name": "stdout",
     "output_type": "stream",
     "text": [
      "Empty or NaN rows: 1072\n",
      "Non-empty rows: 36871\n"
     ]
    }
   ],
   "source": [
    "# Count the number of rows that are empty or NaN in the 'Author Names' column\n",
    "empty_or_nan_count = df['Author Names'].isna().sum() + df['Author Names'].eq('').sum()\n",
    "\n",
    "# Count the number of rows that are not empty or NaN in the 'Author Names' column\n",
    "non_empty_count = len(df) - empty_or_nan_count\n",
    "\n",
    "print(f\"Empty or NaN rows: {empty_or_nan_count}\")\n",
    "print(f\"Non-empty rows: {non_empty_count}\")"
   ]
  },
  {
   "cell_type": "code",
   "execution_count": 9,
   "metadata": {},
   "outputs": [
    {
     "data": {
      "text/html": [
       "<div>\n",
       "<style scoped>\n",
       "    .dataframe tbody tr th:only-of-type {\n",
       "        vertical-align: middle;\n",
       "    }\n",
       "\n",
       "    .dataframe tbody tr th {\n",
       "        vertical-align: top;\n",
       "    }\n",
       "\n",
       "    .dataframe thead th {\n",
       "        text-align: right;\n",
       "    }\n",
       "</style>\n",
       "<table border=\"1\" class=\"dataframe\">\n",
       "  <thead>\n",
       "    <tr style=\"text-align: right;\">\n",
       "      <th></th>\n",
       "      <th>Year</th>\n",
       "      <th>Description</th>\n",
       "      <th>Conference</th>\n",
       "      <th>Title</th>\n",
       "      <th>Author Names</th>\n",
       "    </tr>\n",
       "  </thead>\n",
       "  <tbody>\n",
       "    <tr>\n",
       "      <th>1</th>\n",
       "      <td>2022</td>\n",
       "      <td>March Madness isn't just for college basketbal...</td>\n",
       "      <td>business</td>\n",
       "      <td>Why March is so volatile for stocks - CNN</td>\n",
       "      <td>March;this March</td>\n",
       "    </tr>\n",
       "    <tr>\n",
       "      <th>3</th>\n",
       "      <td>2022</td>\n",
       "      <td>Governments around the world must consider dra...</td>\n",
       "      <td>business</td>\n",
       "      <td>Oil 'emergency': Work from home and drive slow...</td>\n",
       "      <td>Russia;Ukraine;the International Energy Agency...</td>\n",
       "    </tr>\n",
       "    <tr>\n",
       "      <th>5</th>\n",
       "      <td>2022</td>\n",
       "      <td>Inflation is everywhere: grocery stores, gas s...</td>\n",
       "      <td>business</td>\n",
       "      <td>Inflation is everywhere. Except your cell phon...</td>\n",
       "      <td>one</td>\n",
       "    </tr>\n",
       "    <tr>\n",
       "      <th>6</th>\n",
       "      <td>2022</td>\n",
       "      <td>Burger King is trying to suspend its operation...</td>\n",
       "      <td>business</td>\n",
       "      <td>Burger King partner 'refuses' to close 800 Rus...</td>\n",
       "      <td>Burger King;Russia;800</td>\n",
       "    </tr>\n",
       "    <tr>\n",
       "      <th>7</th>\n",
       "      <td>2022</td>\n",
       "      <td>The White House spent much of Friday frustrate...</td>\n",
       "      <td>business</td>\n",
       "      <td>White House 'appalled' at Axios over Ukraine a...</td>\n",
       "      <td>The White House;Friday;Axios;Ukraine</td>\n",
       "    </tr>\n",
       "  </tbody>\n",
       "</table>\n",
       "</div>"
      ],
      "text/plain": [
       "   Year                                        Description Conference  \\\n",
       "1  2022  March Madness isn't just for college basketbal...   business   \n",
       "3  2022  Governments around the world must consider dra...   business   \n",
       "5  2022  Inflation is everywhere: grocery stores, gas s...   business   \n",
       "6  2022  Burger King is trying to suspend its operation...   business   \n",
       "7  2022  The White House spent much of Friday frustrate...   business   \n",
       "\n",
       "                                               Title  \\\n",
       "1          Why March is so volatile for stocks - CNN   \n",
       "3  Oil 'emergency': Work from home and drive slow...   \n",
       "5  Inflation is everywhere. Except your cell phon...   \n",
       "6  Burger King partner 'refuses' to close 800 Rus...   \n",
       "7  White House 'appalled' at Axios over Ukraine a...   \n",
       "\n",
       "                                        Author Names  \n",
       "1                                   March;this March  \n",
       "3  Russia;Ukraine;the International Energy Agency...  \n",
       "5                                                one  \n",
       "6                             Burger King;Russia;800  \n",
       "7               The White House;Friday;Axios;Ukraine  "
      ]
     },
     "execution_count": 9,
     "metadata": {},
     "output_type": "execute_result"
    }
   ],
   "source": [
    "# Remove all the rows that are empty in the 'Author Names' column\n",
    "df = df[df['Author Names'].apply(lambda x: x != '')]\n",
    "df.head()"
   ]
  },
  {
   "cell_type": "markdown",
   "metadata": {},
   "source": [
    "## Split important words"
   ]
  },
  {
   "cell_type": "markdown",
   "metadata": {},
   "source": [
    "## Melt"
   ]
  },
  {
   "cell_type": "code",
   "execution_count": 10,
   "metadata": {},
   "outputs": [
    {
     "data": {
      "text/html": [
       "<div>\n",
       "<style scoped>\n",
       "    .dataframe tbody tr th:only-of-type {\n",
       "        vertical-align: middle;\n",
       "    }\n",
       "\n",
       "    .dataframe tbody tr th {\n",
       "        vertical-align: top;\n",
       "    }\n",
       "\n",
       "    .dataframe thead th {\n",
       "        text-align: right;\n",
       "    }\n",
       "</style>\n",
       "<table border=\"1\" class=\"dataframe\">\n",
       "  <thead>\n",
       "    <tr style=\"text-align: right;\">\n",
       "      <th></th>\n",
       "      <th>Year</th>\n",
       "      <th>Conference</th>\n",
       "      <th>Title</th>\n",
       "      <th>Author Names</th>\n",
       "    </tr>\n",
       "  </thead>\n",
       "  <tbody>\n",
       "    <tr>\n",
       "      <th>1</th>\n",
       "      <td>2022</td>\n",
       "      <td>business</td>\n",
       "      <td>Why March is so volatile for stocks - CNN</td>\n",
       "      <td>March;this March</td>\n",
       "    </tr>\n",
       "    <tr>\n",
       "      <th>3</th>\n",
       "      <td>2022</td>\n",
       "      <td>business</td>\n",
       "      <td>Oil 'emergency': Work from home and drive slow...</td>\n",
       "      <td>Russia;Ukraine;the International Energy Agency...</td>\n",
       "    </tr>\n",
       "    <tr>\n",
       "      <th>5</th>\n",
       "      <td>2022</td>\n",
       "      <td>business</td>\n",
       "      <td>Inflation is everywhere. Except your cell phon...</td>\n",
       "      <td>one</td>\n",
       "    </tr>\n",
       "    <tr>\n",
       "      <th>6</th>\n",
       "      <td>2022</td>\n",
       "      <td>business</td>\n",
       "      <td>Burger King partner 'refuses' to close 800 Rus...</td>\n",
       "      <td>Burger King;Russia;800</td>\n",
       "    </tr>\n",
       "    <tr>\n",
       "      <th>7</th>\n",
       "      <td>2022</td>\n",
       "      <td>business</td>\n",
       "      <td>White House 'appalled' at Axios over Ukraine a...</td>\n",
       "      <td>The White House;Friday;Axios;Ukraine</td>\n",
       "    </tr>\n",
       "  </tbody>\n",
       "</table>\n",
       "</div>"
      ],
      "text/plain": [
       "   Year Conference                                              Title  \\\n",
       "1  2022   business          Why March is so volatile for stocks - CNN   \n",
       "3  2022   business  Oil 'emergency': Work from home and drive slow...   \n",
       "5  2022   business  Inflation is everywhere. Except your cell phon...   \n",
       "6  2022   business  Burger King partner 'refuses' to close 800 Rus...   \n",
       "7  2022   business  White House 'appalled' at Axios over Ukraine a...   \n",
       "\n",
       "                                        Author Names  \n",
       "1                                   March;this March  \n",
       "3  Russia;Ukraine;the International Energy Agency...  \n",
       "5                                                one  \n",
       "6                             Burger King;Russia;800  \n",
       "7               The White House;Friday;Axios;Ukraine  "
      ]
     },
     "execution_count": 10,
     "metadata": {},
     "output_type": "execute_result"
    }
   ],
   "source": [
    "# Drop the 'Description' and 'Author Names Column' columns\n",
    "df = df.drop(columns=['Description'])\n",
    "df.head()"
   ]
  },
  {
   "cell_type": "markdown",
   "metadata": {},
   "source": [
    "## Agreggate"
   ]
  },
  {
   "cell_type": "markdown",
   "metadata": {},
   "source": [
    "# Save Preprocessed dataset"
   ]
  },
  {
   "cell_type": "code",
   "execution_count": 11,
   "metadata": {},
   "outputs": [],
   "source": [
    "# Export the DataFrame to a new .tsv file\n",
    "df.to_csv('CNN2.tsv', sep='\\t', index=False)"
   ]
  },
  {
   "cell_type": "code",
   "execution_count": null,
   "metadata": {},
   "outputs": [],
   "source": []
  }
 ],
 "metadata": {
  "kernelspec": {
   "display_name": "Python 3 (ipykernel)",
   "language": "python",
   "name": "python3"
  },
  "language_info": {
   "codemirror_mode": {
    "name": "ipython",
    "version": 3
   },
   "file_extension": ".py",
   "mimetype": "text/x-python",
   "name": "python",
   "nbconvert_exporter": "python",
   "pygments_lexer": "ipython3",
   "version": "3.11.5"
  }
 },
 "nbformat": 4,
 "nbformat_minor": 2
}
